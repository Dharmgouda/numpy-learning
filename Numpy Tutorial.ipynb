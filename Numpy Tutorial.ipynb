{
 "cells": [
  {
   "cell_type": "markdown",
   "id": "24aa0efe-afd9-4867-aad5-7337ba41df75",
   "metadata": {},
   "source": [
    "# Welcome to numpy tutorial"
   ]
  },
  {
   "cell_type": "code",
   "execution_count": 1,
   "id": "d4543a62-ecef-46bc-87c5-73813ed97e8d",
   "metadata": {},
   "outputs": [],
   "source": [
    "import numpy as np"
   ]
  },
  {
   "cell_type": "markdown",
   "id": "7b19f825-7d85-4406-b5df-33032a79e18c",
   "metadata": {},
   "source": [
    "1D ARray with assigned memory"
   ]
  },
  {
   "cell_type": "code",
   "execution_count": 2,
   "id": "ff1331fa-ce0c-4408-842a-3733d9296dcb",
   "metadata": {},
   "outputs": [],
   "source": [
    "myarr = np.array([3,6,37,7], np.int64)"
   ]
  },
  {
   "cell_type": "code",
   "execution_count": 3,
   "id": "8ac48cc0-d42b-4c43-913f-63df363eaa71",
   "metadata": {},
   "outputs": [
    {
     "data": {
      "text/plain": [
       "np.int64(3)"
      ]
     },
     "execution_count": 3,
     "metadata": {},
     "output_type": "execute_result"
    }
   ],
   "source": [
    "myarr[0]"
   ]
  },
  {
   "cell_type": "markdown",
   "id": "a34eecfa-b522-4a4f-b93a-2dff9050a80a",
   "metadata": {},
   "source": [
    "2D ARray with assigned memory"
   ]
  },
  {
   "cell_type": "code",
   "execution_count": 4,
   "id": "415b40df-7d4a-4bf5-9648-ea84f1f86299",
   "metadata": {},
   "outputs": [],
   "source": [
    "myarr2 = np.array([[3,6,37,7]], np.int64)"
   ]
  },
  {
   "cell_type": "code",
   "execution_count": 5,
   "id": "6861858f-81da-4e22-8aca-dba4fe61e627",
   "metadata": {},
   "outputs": [
    {
     "data": {
      "text/plain": [
       "np.int64(6)"
      ]
     },
     "execution_count": 5,
     "metadata": {},
     "output_type": "execute_result"
    }
   ],
   "source": [
    "myarr2[0,1]"
   ]
  },
  {
   "cell_type": "code",
   "execution_count": 6,
   "id": "69ddde39-049d-4191-825c-03430f52ccab",
   "metadata": {},
   "outputs": [
    {
     "data": {
      "text/plain": [
       "(1, 4)"
      ]
     },
     "execution_count": 6,
     "metadata": {},
     "output_type": "execute_result"
    }
   ],
   "source": [
    "myarr2.shape"
   ]
  },
  {
   "cell_type": "code",
   "execution_count": 7,
   "id": "181350e3-c0e8-44a0-a0ff-754aeff31fc3",
   "metadata": {},
   "outputs": [
    {
     "data": {
      "text/plain": [
       "dtype('int64')"
      ]
     },
     "execution_count": 7,
     "metadata": {},
     "output_type": "execute_result"
    }
   ],
   "source": [
    "myarr2.dtype"
   ]
  },
  {
   "cell_type": "code",
   "execution_count": 8,
   "id": "3269f99b-771c-4abc-a942-a2e785943eac",
   "metadata": {},
   "outputs": [
    {
     "data": {
      "text/plain": [
       "dtype('int64')"
      ]
     },
     "execution_count": 8,
     "metadata": {},
     "output_type": "execute_result"
    }
   ],
   "source": [
    "myarr.dtype"
   ]
  },
  {
   "cell_type": "code",
   "execution_count": 9,
   "id": "8afc68d1-122c-4103-943f-546b646d15d9",
   "metadata": {},
   "outputs": [],
   "source": [
    "myarr2[0,1] = 45"
   ]
  },
  {
   "cell_type": "code",
   "execution_count": 10,
   "id": "f622b3d3-cd6b-4ee9-97a6-e0709f2d9d7b",
   "metadata": {},
   "outputs": [
    {
     "data": {
      "text/plain": [
       "array([[ 3, 45, 37,  7]])"
      ]
     },
     "execution_count": 10,
     "metadata": {},
     "output_type": "execute_result"
    }
   ],
   "source": [
    "myarr2"
   ]
  },
  {
   "cell_type": "markdown",
   "id": "8529bd40-5b31-4404-bab9-be9e4c0517e1",
   "metadata": {},
   "source": [
    "# There are 6 general mechanisms for creating arrays"
   ]
  },
  {
   "cell_type": "markdown",
   "id": "d0def6dd-5a8c-4453-b7fc-72a56cc0b44a",
   "metadata": {},
   "source": [
    "# **1.Conversion from other Python structures (i.e. lists and tuples)**"
   ]
  },
  {
   "cell_type": "code",
   "execution_count": 11,
   "id": "f84bfc69-936b-4b3b-a6e0-37cb8c209319",
   "metadata": {},
   "outputs": [],
   "source": [
    "listarray = np.array( [[1,2,3],[5,6,7],[0,3,1]])"
   ]
  },
  {
   "cell_type": "code",
   "execution_count": 12,
   "id": "9884ad9e-5b30-4169-8541-63d8e4be7b21",
   "metadata": {},
   "outputs": [
    {
     "data": {
      "text/plain": [
       "array([[1, 2, 3],\n",
       "       [5, 6, 7],\n",
       "       [0, 3, 1]])"
      ]
     },
     "execution_count": 12,
     "metadata": {},
     "output_type": "execute_result"
    }
   ],
   "source": [
    "listarray"
   ]
  },
  {
   "cell_type": "code",
   "execution_count": 13,
   "id": "7b067178-219f-46f0-aa42-0170388f4abf",
   "metadata": {},
   "outputs": [
    {
     "data": {
      "text/plain": [
       "(3, 3)"
      ]
     },
     "execution_count": 13,
     "metadata": {},
     "output_type": "execute_result"
    }
   ],
   "source": [
    "listarray.shape"
   ]
  },
  {
   "cell_type": "code",
   "execution_count": 14,
   "id": "c808950a-a50c-43d6-9a5b-62af46f01cae",
   "metadata": {},
   "outputs": [
    {
     "data": {
      "text/plain": [
       "9"
      ]
     },
     "execution_count": 14,
     "metadata": {},
     "output_type": "execute_result"
    }
   ],
   "source": [
    "listarray.size"
   ]
  },
  {
   "cell_type": "code",
   "execution_count": 15,
   "id": "1c32e328-0a09-48c2-b0c4-d40bce076841",
   "metadata": {},
   "outputs": [
    {
     "data": {
      "text/plain": [
       "dtype('int64')"
      ]
     },
     "execution_count": 15,
     "metadata": {},
     "output_type": "execute_result"
    }
   ],
   "source": [
    "listarray.dtype"
   ]
  },
  {
   "cell_type": "code",
   "execution_count": 16,
   "id": "5a7577d5-1272-4d41-b357-4ca2bbfe632d",
   "metadata": {},
   "outputs": [
    {
     "data": {
      "text/plain": [
       "array({34, 23}, dtype=object)"
      ]
     },
     "execution_count": 16,
     "metadata": {},
     "output_type": "execute_result"
    }
   ],
   "source": [
    "np.array({34, 23, 23})"
   ]
  },
  {
   "cell_type": "markdown",
   "id": "cf29da12-b054-4064-b5cc-b501176236e0",
   "metadata": {},
   "source": [
    "# Intrinsic NumPy array creation functions (e.g. arange, ones, zeros, etc.)"
   ]
  },
  {
   "cell_type": "code",
   "execution_count": 17,
   "id": "7dd13b99-1359-4717-81ef-5aa75e9795f3",
   "metadata": {},
   "outputs": [],
   "source": [
    "zeros = np.zeros((2,5))"
   ]
  },
  {
   "cell_type": "code",
   "execution_count": 18,
   "id": "c9c509f0-aa30-4bb6-9dc8-521a173d55a4",
   "metadata": {},
   "outputs": [
    {
     "data": {
      "text/plain": [
       "array([[0., 0., 0., 0., 0.],\n",
       "       [0., 0., 0., 0., 0.]])"
      ]
     },
     "execution_count": 18,
     "metadata": {},
     "output_type": "execute_result"
    }
   ],
   "source": [
    "zeros"
   ]
  },
  {
   "cell_type": "code",
   "execution_count": 19,
   "id": "dcd19f69-d6f3-46a0-a05b-526841b805e1",
   "metadata": {},
   "outputs": [
    {
     "data": {
      "text/plain": [
       "(2, 5)"
      ]
     },
     "execution_count": 19,
     "metadata": {},
     "output_type": "execute_result"
    }
   ],
   "source": [
    "zeros.shape"
   ]
  },
  {
   "cell_type": "code",
   "execution_count": 20,
   "id": "3eb291e4-bef8-4ded-924b-231cba17a0c6",
   "metadata": {},
   "outputs": [
    {
     "data": {
      "text/plain": [
       "dtype('float64')"
      ]
     },
     "execution_count": 20,
     "metadata": {},
     "output_type": "execute_result"
    }
   ],
   "source": [
    "zeros.dtype"
   ]
  },
  {
   "cell_type": "code",
   "execution_count": 21,
   "id": "60b277bb-d86e-40d1-a2ed-043dcc3106ec",
   "metadata": {},
   "outputs": [],
   "source": [
    "rng = np.arange(15)"
   ]
  },
  {
   "cell_type": "code",
   "execution_count": 22,
   "id": "039d9593-3b8a-4557-9e6a-c5e2ee7898a9",
   "metadata": {},
   "outputs": [
    {
     "data": {
      "text/plain": [
       "array([ 0,  1,  2,  3,  4,  5,  6,  7,  8,  9, 10, 11, 12, 13, 14])"
      ]
     },
     "execution_count": 22,
     "metadata": {},
     "output_type": "execute_result"
    }
   ],
   "source": [
    "rng"
   ]
  },
  {
   "attachments": {
    "3bd2640f-e90c-4ef6-8d7d-e13c89779ab7.png": {
     "image/png": "[encoded data removed]"
    },
    "4f473e31-9382-427e-b081-da69f57d880c.png": {
     "image/png": "[encoded data removed]"
    }
   },
   "cell_type": "markdown",
   "id": "c541a510-ddb9-4387-818d-7a119db6ba04",
   "metadata": {},
   "source": [
    "![image.png](attachment:3bd2640f-e90c-4ef6-8d7d-e13c89779ab7.png)\n",
    "\n",
    "✅ Formula to calculate each value:\n",
    "Let’s define:\n",
    "\n",
    "start = first number\n",
    "\n",
    "stop = last number\n",
    "\n",
    "num = how many total numbers you want\n",
    "\n",
    "i = index of the number (starting from 0)\n",
    "\n",
    "🔢 General Formula for the i-th number:\n",
    "value\n",
    "i \n",
    "(stop−start\n",
    "✅ np.linspace() — What It Does:\n",
    "It creates a list (array) of evenly spaced numbers over a specified range.\n",
    "![image.png](attachment:4f473e31-9382-427e-b081-da69f57d880c.png)\n",
    "🎯 You said:\n",
    "Great! Let’s break down:\n",
    "\n",
    "np.linspace(1, 4, 5)\n",
    "✅ What this does:\n",
    "\"Give me 5 numbers that are evenly spaced between 1 and 4, including both 1 and 4.\"\n",
    "\n",
    "🧮 Step-by-step:\n",
    "Start = 1\n",
    "\n",
    "Stop = 4\n",
    "\n",
    "Number of values = 5\n",
    "\n",
    "So there are 4 gaps between the numbers\n",
    "\n",
    "📏 Calculate spacing:\n",
    "Spacing = (4 - 1) / (5 - 1) = 3 / 4 = 0.75\n",
    "🧾 Final output:\n",
    "\n",
    "[1.00, 1.75, 2.50, 3.25, 4.00]\n",
    "Each number is 0.75 apart.\n",
    "\n",
    "🧠 Analogy:\n",
    "If you walk from 1 km to 4 km, and want to make 5 equal stops including the start and end, you stop at:\n",
    "\n",
    "1.0 → 1.75 → 2.5 → 3.25 → 4.0\n"
   ]
  },
  {
   "cell_type": "code",
   "execution_count": 23,
   "id": "fee6af93-7b7b-435b-9bfb-93b39e2f160b",
   "metadata": {},
   "outputs": [],
   "source": [
    "lspace = np.linspace(1,50,12)"
   ]
  },
  {
   "cell_type": "code",
   "execution_count": 24,
   "id": "7c7d6fc1-0c27-4d31-9fb6-dc8fe6f61756",
   "metadata": {},
   "outputs": [
    {
     "data": {
      "text/plain": [
       "array([ 1.        ,  5.45454545,  9.90909091, 14.36363636, 18.81818182,\n",
       "       23.27272727, 27.72727273, 32.18181818, 36.63636364, 41.09090909,\n",
       "       45.54545455, 50.        ])"
      ]
     },
     "execution_count": 24,
     "metadata": {},
     "output_type": "execute_result"
    }
   ],
   "source": [
    "lspace"
   ]
  },
  {
   "cell_type": "markdown",
   "id": "e9bc28b0-29fa-44a0-a21a-c6369188d4fa",
   "metadata": {},
   "source": [
    "✅ What np.empty((4, 6)) does:\n",
    "It creates an uninitialized NumPy array with speed\n",
    "\n",
    "4 rows\n",
    "\n",
    "6 columns\n",
    "\n",
    "So the shape is: (4, 6)\n",
    "\n",
    "⚠️ What's \"uninitialized\"?\n",
    "It allocates memory for the array, but doesn’t set the values to zeros or any specific number.\n",
    "\n",
    "The values inside will be random garbage data — whatever was in memory at the time.\n",
    "\n",
    "It's faster than np.zeros() or np.ones() because it skips initialization.\n",
    "\n",
    "📌 Use cases:\n",
    "Use np.empty() when:\n",
    "\n",
    "You want to fill the array later, like in a loop or calculation\n",
    "\n",
    "You care about speed\n",
    "\n"
   ]
  },
  {
   "cell_type": "code",
   "execution_count": 25,
   "id": "51561994-59ae-43c0-b30c-acd796fe9312",
   "metadata": {},
   "outputs": [],
   "source": [
    "emp = np.empty ((4,6))"
   ]
  },
  {
   "cell_type": "code",
   "execution_count": 26,
   "id": "8674b712-6d63-468d-bafa-c84d4dc258e1",
   "metadata": {},
   "outputs": [
    {
     "data": {
      "text/plain": [
       "array([[6.23042070e-307, 3.56043053e-307, 1.60219306e-306,\n",
       "        2.44763557e-307, 1.69119330e-306, 1.78022342e-306],\n",
       "       [1.05700345e-307, 3.11525958e-307, 1.69118108e-306,\n",
       "        8.06632139e-308, 1.20160711e-306, 1.69119330e-306],\n",
       "       [1.29062229e-306, 6.89804133e-307, 9.34608432e-307,\n",
       "        1.86921007e-306, 7.56596412e-307, 2.22520559e-306],\n",
       "       [7.56599128e-307, 8.45559303e-307, 1.05695167e-307,\n",
       "        1.33511562e-306, 8.90103560e-307, 1.42410974e-306]])"
      ]
     },
     "execution_count": 26,
     "metadata": {},
     "output_type": "execute_result"
    }
   ],
   "source": [
    "emp"
   ]
  },
  {
   "cell_type": "markdown",
   "id": "f3ae06c1-b111-402b-a60f-eac2204c312a",
   "metadata": {},
   "source": [
    "*** empty_like(input_array) it copy the size of input array and create new array with radom elements ***"
   ]
  },
  {
   "cell_type": "code",
   "execution_count": 27,
   "id": "c6ce399b-77c2-4eee-a060-a2813108f6b8",
   "metadata": {},
   "outputs": [],
   "source": [
    "emp_like = np.empty_like(lspace)"
   ]
  },
  {
   "cell_type": "code",
   "execution_count": 28,
   "id": "a30cc9f5-5167-4362-a2b0-392699348f4b",
   "metadata": {},
   "outputs": [
    {
     "data": {
      "text/plain": [
       "array([ 1.        ,  5.45454545,  9.90909091, 14.36363636, 18.81818182,\n",
       "       23.27272727, 27.72727273, 32.18181818, 36.63636364, 41.09090909,\n",
       "       45.54545455, 50.        ])"
      ]
     },
     "execution_count": 28,
     "metadata": {},
     "output_type": "execute_result"
    }
   ],
   "source": [
    "emp_like"
   ]
  },
  {
   "cell_type": "code",
   "execution_count": 29,
   "id": "c3d04b49-d651-48f8-b15c-1356c7fd0121",
   "metadata": {},
   "outputs": [],
   "source": [
    "ide = np.identity(45)"
   ]
  },
  {
   "cell_type": "code",
   "execution_count": 30,
   "id": "17af57bb-f748-4b39-b536-29a6498edc74",
   "metadata": {},
   "outputs": [
    {
     "data": {
      "text/plain": [
       "array([[1., 0., 0., ..., 0., 0., 0.],\n",
       "       [0., 1., 0., ..., 0., 0., 0.],\n",
       "       [0., 0., 1., ..., 0., 0., 0.],\n",
       "       ...,\n",
       "       [0., 0., 0., ..., 1., 0., 0.],\n",
       "       [0., 0., 0., ..., 0., 1., 0.],\n",
       "       [0., 0., 0., ..., 0., 0., 1.]], shape=(45, 45))"
      ]
     },
     "execution_count": 30,
     "metadata": {},
     "output_type": "execute_result"
    }
   ],
   "source": [
    "ide"
   ]
  },
  {
   "cell_type": "code",
   "execution_count": 31,
   "id": "3b375133-3688-43eb-91a4-d5fb9f253410",
   "metadata": {},
   "outputs": [],
   "source": [
    "arr = np.arange(99)"
   ]
  },
  {
   "cell_type": "code",
   "execution_count": 33,
   "id": "8ae04fbe-571e-44b9-a089-f117b45ca0f8",
   "metadata": {},
   "outputs": [
    {
     "data": {
      "text/plain": [
       "array([ 0,  1,  2,  3,  4,  5,  6,  7,  8,  9, 10, 11, 12, 13, 14, 15, 16,\n",
       "       17, 18, 19, 20, 21, 22, 23, 24, 25, 26, 27, 28, 29, 30, 31, 32, 33,\n",
       "       34, 35, 36, 37, 38, 39, 40, 41, 42, 43, 44, 45, 46, 47, 48, 49, 50,\n",
       "       51, 52, 53, 54, 55, 56, 57, 58, 59, 60, 61, 62, 63, 64, 65, 66, 67,\n",
       "       68, 69, 70, 71, 72, 73, 74, 75, 76, 77, 78, 79, 80, 81, 82, 83, 84,\n",
       "       85, 86, 87, 88, 89, 90, 91, 92, 93, 94, 95, 96, 97, 98])"
      ]
     },
     "execution_count": 33,
     "metadata": {},
     "output_type": "execute_result"
    }
   ],
   "source": [
    "arr"
   ]
  },
  {
   "cell_type": "code",
   "execution_count": 38,
   "id": "2460d94a-ea14-420f-a95d-1e5f4ca97b87",
   "metadata": {},
   "outputs": [
    {
     "data": {
      "text/plain": [
       "array([[ 0,  1,  2,  3,  4,  5,  6,  7,  8,  9, 10, 11, 12, 13, 14, 15,\n",
       "        16, 17, 18, 19, 20, 21, 22, 23, 24, 25, 26, 27, 28, 29, 30, 31,\n",
       "        32],\n",
       "       [33, 34, 35, 36, 37, 38, 39, 40, 41, 42, 43, 44, 45, 46, 47, 48,\n",
       "        49, 50, 51, 52, 53, 54, 55, 56, 57, 58, 59, 60, 61, 62, 63, 64,\n",
       "        65],\n",
       "       [66, 67, 68, 69, 70, 71, 72, 73, 74, 75, 76, 77, 78, 79, 80, 81,\n",
       "        82, 83, 84, 85, 86, 87, 88, 89, 90, 91, 92, 93, 94, 95, 96, 97,\n",
       "        98]])"
      ]
     },
     "execution_count": 38,
     "metadata": {},
     "output_type": "execute_result"
    }
   ],
   "source": [
    "arr.reshape(3,33)"
   ]
  },
  {
   "cell_type": "code",
   "execution_count": 39,
   "id": "9fd4330a-c54c-43c0-9b40-9b190bfed222",
   "metadata": {},
   "outputs": [
    {
     "data": {
      "text/plain": [
       "array([ 0,  1,  2,  3,  4,  5,  6,  7,  8,  9, 10, 11, 12, 13, 14, 15, 16,\n",
       "       17, 18, 19, 20, 21, 22, 23, 24, 25, 26, 27, 28, 29, 30, 31, 32, 33,\n",
       "       34, 35, 36, 37, 38, 39, 40, 41, 42, 43, 44, 45, 46, 47, 48, 49, 50,\n",
       "       51, 52, 53, 54, 55, 56, 57, 58, 59, 60, 61, 62, 63, 64, 65, 66, 67,\n",
       "       68, 69, 70, 71, 72, 73, 74, 75, 76, 77, 78, 79, 80, 81, 82, 83, 84,\n",
       "       85, 86, 87, 88, 89, 90, 91, 92, 93, 94, 95, 96, 97, 98])"
      ]
     },
     "execution_count": 39,
     "metadata": {},
     "output_type": "execute_result"
    }
   ],
   "source": [
    "arr"
   ]
  },
  {
   "cell_type": "code",
   "execution_count": 40,
   "id": "49f10c07-8473-4f6a-a3e4-4e882be8ebac",
   "metadata": {},
   "outputs": [],
   "source": [
    "arr = arr.reshape(3,33)"
   ]
  },
  {
   "cell_type": "code",
   "execution_count": 41,
   "id": "d99f28ac-e66c-447e-af70-1c509f862299",
   "metadata": {},
   "outputs": [
    {
     "data": {
      "text/plain": [
       "array([[ 0,  1,  2,  3,  4,  5,  6,  7,  8,  9, 10, 11, 12, 13, 14, 15,\n",
       "        16, 17, 18, 19, 20, 21, 22, 23, 24, 25, 26, 27, 28, 29, 30, 31,\n",
       "        32],\n",
       "       [33, 34, 35, 36, 37, 38, 39, 40, 41, 42, 43, 44, 45, 46, 47, 48,\n",
       "        49, 50, 51, 52, 53, 54, 55, 56, 57, 58, 59, 60, 61, 62, 63, 64,\n",
       "        65],\n",
       "       [66, 67, 68, 69, 70, 71, 72, 73, 74, 75, 76, 77, 78, 79, 80, 81,\n",
       "        82, 83, 84, 85, 86, 87, 88, 89, 90, 91, 92, 93, 94, 95, 96, 97,\n",
       "        98]])"
      ]
     },
     "execution_count": 41,
     "metadata": {},
     "output_type": "execute_result"
    }
   ],
   "source": [
    "arr"
   ]
  },
  {
   "cell_type": "code",
   "execution_count": 43,
   "id": "948876c6-4a37-41bb-a666-5fdb62e0663c",
   "metadata": {},
   "outputs": [],
   "source": [
    "arr = arr.ravel()"
   ]
  },
  {
   "cell_type": "code",
   "execution_count": 44,
   "id": "63a86834-dd86-45b9-ba95-031963acc204",
   "metadata": {},
   "outputs": [
    {
     "data": {
      "text/plain": [
       "array([ 0,  1,  2,  3,  4,  5,  6,  7,  8,  9, 10, 11, 12, 13, 14, 15, 16,\n",
       "       17, 18, 19, 20, 21, 22, 23, 24, 25, 26, 27, 28, 29, 30, 31, 32, 33,\n",
       "       34, 35, 36, 37, 38, 39, 40, 41, 42, 43, 44, 45, 46, 47, 48, 49, 50,\n",
       "       51, 52, 53, 54, 55, 56, 57, 58, 59, 60, 61, 62, 63, 64, 65, 66, 67,\n",
       "       68, 69, 70, 71, 72, 73, 74, 75, 76, 77, 78, 79, 80, 81, 82, 83, 84,\n",
       "       85, 86, 87, 88, 89, 90, 91, 92, 93, 94, 95, 96, 97, 98])"
      ]
     },
     "execution_count": 44,
     "metadata": {},
     "output_type": "execute_result"
    }
   ],
   "source": [
    "arr"
   ]
  },
  {
   "cell_type": "code",
   "execution_count": 45,
   "id": "7a8bad7b-89fa-4aff-ae6a-699ade50bfde",
   "metadata": {},
   "outputs": [
    {
     "data": {
      "text/plain": [
       "(99,)"
      ]
     },
     "execution_count": 45,
     "metadata": {},
     "output_type": "execute_result"
    }
   ],
   "source": [
    "arr.shape"
   ]
  },
  {
   "cell_type": "markdown",
   "id": "50867194-76d5-4af7-b623-63a8f699366b",
   "metadata": {},
   "source": [
    "# NUMPY AXIS"
   ]
  },
  {
   "cell_type": "code",
   "execution_count": 63,
   "id": "8eba4eba-b1ea-409e-ac90-d1f05038e4cf",
   "metadata": {},
   "outputs": [],
   "source": [
    "x = [[1, 2, 3], [8,6, 0], [7, 8, 9]] \n"
   ]
  },
  {
   "cell_type": "code",
   "execution_count": 64,
   "id": "aa16d43a-21ad-480a-b34d-8465bc83700e",
   "metadata": {},
   "outputs": [],
   "source": [
    "ar = np.array(x)"
   ]
  },
  {
   "cell_type": "code",
   "execution_count": 65,
   "id": "73e79d49-7919-4754-9c68-199135bdbe25",
   "metadata": {},
   "outputs": [
    {
     "data": {
      "text/plain": [
       "array([[1, 2, 3],\n",
       "       [8, 6, 0],\n",
       "       [7, 8, 9]])"
      ]
     },
     "execution_count": 65,
     "metadata": {},
     "output_type": "execute_result"
    }
   ],
   "source": [
    "ar"
   ]
  },
  {
   "cell_type": "code",
   "execution_count": 67,
   "id": "2b64a8a8-35af-4375-af30-38cc77faff36",
   "metadata": {},
   "outputs": [
    {
     "data": {
      "text/plain": [
       "array([16, 16, 12])"
      ]
     },
     "execution_count": 67,
     "metadata": {},
     "output_type": "execute_result"
    }
   ],
   "source": [
    "ar.sum(axis=0)"
   ]
  },
  {
   "cell_type": "code",
   "execution_count": 68,
   "id": "f04a0c66-7699-452c-8de9-74233507c621",
   "metadata": {},
   "outputs": [
    {
     "data": {
      "text/plain": [
       "array([ 6, 14, 24])"
      ]
     },
     "execution_count": 68,
     "metadata": {},
     "output_type": "execute_result"
    }
   ],
   "source": [
    "ar.sum(axis=1)"
   ]
  },
  {
   "cell_type": "code",
   "execution_count": 70,
   "id": "12a23f5a-6059-4bfb-839c-f351a3c8a278",
   "metadata": {},
   "outputs": [
    {
     "data": {
      "text/plain": [
       "array([[1, 8, 7],\n",
       "       [2, 6, 8],\n",
       "       [3, 0, 9]])"
      ]
     },
     "execution_count": 70,
     "metadata": {},
     "output_type": "execute_result"
    }
   ],
   "source": [
    "ar.T"
   ]
  },
  {
   "cell_type": "code",
   "execution_count": null,
   "id": "be7083a8-e740-4742-9952-5163e719a87c",
   "metadata": {},
   "outputs": [],
   "source": [
    "✅ What is ar.flat?\n",
    "ar.flat is a 1D iterator over all elements of a multi-dimensional NumPy array.\n",
    "\n",
    "It lets you loop through all elements of an array as if it's flattened, without actually changing the array structure.\n",
    "\n",
    "🔍 Example:\n",
    "import numpy as np\n",
    "\n",
    "ar = np.array([[10, 20],\n",
    "               [30, 40]])\n",
    "\n",
    "print(list(ar.flat))\n",
    "Output:\n",
    "\n",
    "csharp\n",
    "Copy\n",
    "Edit\n",
    "[10, 20, 30, 40]"
   ]
  },
  {
   "cell_type": "code",
   "execution_count": 71,
   "id": "a6749fef-8f62-407a-a9a1-62797ac980ad",
   "metadata": {},
   "outputs": [
    {
     "data": {
      "text/plain": [
       "<numpy.flatiter at 0x21ac879e090>"
      ]
     },
     "execution_count": 71,
     "metadata": {},
     "output_type": "execute_result"
    }
   ],
   "source": [
    "ar.flat"
   ]
  },
  {
   "cell_type": "code",
   "execution_count": 76,
   "id": "cc6dc79d-ddda-4f2c-a56c-432bec75ec16",
   "metadata": {},
   "outputs": [
    {
     "name": "stdout",
     "output_type": "stream",
     "text": [
      "1\n",
      "2\n",
      "3\n",
      "8\n",
      "6\n",
      "0\n",
      "7\n",
      "8\n",
      "9\n"
     ]
    }
   ],
   "source": [
    "#([[1, 2, 3], [8, 6, 0], [7, 8, 9]])\n",
    "\n",
    "for item in ar.flat:\n",
    "    print(item)"
   ]
  },
  {
   "cell_type": "code",
   "execution_count": 78,
   "id": "0ca60b58-3010-4fda-861d-34bc3bd298a6",
   "metadata": {},
   "outputs": [
    {
     "data": {
      "text/plain": [
       "2"
      ]
     },
     "execution_count": 78,
     "metadata": {},
     "output_type": "execute_result"
    }
   ],
   "source": [
    "ar.ndim"
   ]
  },
  {
   "cell_type": "code",
   "execution_count": 79,
   "id": "cd332f61-9d6e-49a0-b852-47898efaa361",
   "metadata": {},
   "outputs": [
    {
     "data": {
      "text/plain": [
       "9"
      ]
     },
     "execution_count": 79,
     "metadata": {},
     "output_type": "execute_result"
    }
   ],
   "source": [
    "ar.size"
   ]
  },
  {
   "cell_type": "code",
   "execution_count": 80,
   "id": "2cb4b1b0-c554-45d5-b2b4-e6c1241fc177",
   "metadata": {},
   "outputs": [
    {
     "data": {
      "text/plain": [
       "72"
      ]
     },
     "execution_count": 80,
     "metadata": {},
     "output_type": "execute_result"
    }
   ],
   "source": [
    "ar.nbytes"
   ]
  },
  {
   "cell_type": "raw",
   "id": "29be27eb-58f5-4af2-aa8b-3781de1884f5",
   "metadata": {},
   "source": []
  },
  {
   "attachments": {
    "102d5cf6-7d29-458a-8a23-9cef5e4a4c75.png": {
     "image/png": "[encoded data removed]"
    }
   },
   "cell_type": "markdown",
   "id": "bdf66a42-ab22-4d2d-a3ff-0e39c0687dae",
   "metadata": {},
   "source": [
    "In NumPy and Python, the word arg is often short for \"argument\", but in function names like argmax, argmin, argsort, etc., it actually means:\n",
    "\n",
    "\"Index (or position) of the value\" — not the value itself.\n",
    "![image.png](attachment:102d5cf6-7d29-458a-8a23-9cef5e4a4c75.png)"
   ]
  },
  {
   "cell_type": "markdown",
   "id": "a55074ad-e147-490a-b8e3-c7d192464554",
   "metadata": {},
   "source": [
    "np.argmax() returns the index of the maximum value in the array."
   ]
  },
  {
   "cell_type": "code",
   "execution_count": 97,
   "id": "09b5ba67-47f2-4b44-891c-be6d7c1c6aeb",
   "metadata": {},
   "outputs": [],
   "source": [
    "one = np.array([1,3,10,4,5,9,9])"
   ]
  },
  {
   "cell_type": "markdown",
   "id": "56fd6a62-547e-4860-a84f-5226ae96b188",
   "metadata": {},
   "source": [
    "np.argmax()\n",
    "Returns the index of the maximum value in the array."
   ]
  },
  {
   "cell_type": "code",
   "execution_count": 98,
   "id": "a341b7c7-7d40-4122-b2cb-39b0e89ffedc",
   "metadata": {},
   "outputs": [
    {
     "data": {
      "text/plain": [
       "np.int64(2)"
      ]
     },
     "execution_count": 98,
     "metadata": {},
     "output_type": "execute_result"
    }
   ],
   "source": [
    "one.argmax()"
   ]
  },
  {
   "cell_type": "markdown",
   "id": "1b37779e-8e4c-4eb4-9c1b-0595395b53cf",
   "metadata": {},
   "source": [
    "np.argmin()\n",
    "Returns the index of the minimum value in the array."
   ]
  },
  {
   "cell_type": "code",
   "execution_count": 99,
   "id": "e26e69ef-5036-453f-a3c2-4d0d24711279",
   "metadata": {},
   "outputs": [
    {
     "data": {
      "text/plain": [
       "np.int64(0)"
      ]
     },
     "execution_count": 99,
     "metadata": {},
     "output_type": "execute_result"
    }
   ],
   "source": [
    "one.argmin()"
   ]
  },
  {
   "cell_type": "markdown",
   "id": "086a9e3f-90bf-44a6-9d80-b74089ea77c3",
   "metadata": {},
   "source": [
    "np.argsort() does:\n",
    "It returns the indices that would sort the array."
   ]
  },
  {
   "cell_type": "code",
   "execution_count": 100,
   "id": "6c21645f-6ded-486d-bd01-3e5ee4ef8313",
   "metadata": {},
   "outputs": [
    {
     "data": {
      "text/plain": [
       "array([0, 1, 3, 4, 6, 5, 2])"
      ]
     },
     "execution_count": 100,
     "metadata": {},
     "output_type": "execute_result"
    }
   ],
   "source": [
    "one.argsort()"
   ]
  },
  {
   "cell_type": "code",
   "execution_count": 101,
   "id": "5c3dba66-036b-4b50-9576-ca7100b22a33",
   "metadata": {},
   "outputs": [],
   "source": [
    "one.sort()"
   ]
  },
  {
   "cell_type": "code",
   "execution_count": 102,
   "id": "5463f3b6-f00e-4470-90e1-0101f6411243",
   "metadata": {},
   "outputs": [
    {
     "data": {
      "text/plain": [
       "array([ 1,  3,  4,  5,  9,  9, 10])"
      ]
     },
     "execution_count": 102,
     "metadata": {},
     "output_type": "execute_result"
    }
   ],
   "source": [
    "one"
   ]
  },
  {
   "cell_type": "code",
   "execution_count": null,
   "id": "c41f0953-b9c6-4381-ab75-5b98d2545efb",
   "metadata": {},
   "outputs": [],
   "source": [
    "✅ Basic .argmin() on a 2D array:\n",
    "\n",
    "import numpy as np\n",
    "\n",
    "ar = np.array([[3, 7, 1],\n",
    "               [9, 4, 6]])\n",
    "ar.argmin()\n",
    "Output:\n",
    "\n",
    "2\n",
    "This returns the index in the flattened (1D) version of the array:"
   ]
  },
  {
   "cell_type": "code",
   "execution_count": 103,
   "id": "100290a0-f5af-40e5-a29a-ae3fa7a00646",
   "metadata": {},
   "outputs": [
    {
     "data": {
      "text/plain": [
       "array([[1, 2, 3],\n",
       "       [8, 6, 0],\n",
       "       [7, 8, 9]])"
      ]
     },
     "execution_count": 103,
     "metadata": {},
     "output_type": "execute_result"
    }
   ],
   "source": [
    "ar"
   ]
  },
  {
   "cell_type": "code",
   "execution_count": null,
   "id": "6a8cd188-ae2f-4262-8462-ea7860baf16e",
   "metadata": {},
   "outputs": [],
   "source": [
    "This returns the minimum element index in the flattened (1D) version of the array:"
   ]
  },
  {
   "cell_type": "code",
   "execution_count": 104,
   "id": "a6cbe797-de2d-4e2f-a970-3697be658344",
   "metadata": {},
   "outputs": [
    {
     "data": {
      "text/plain": [
       "np.int64(5)"
      ]
     },
     "execution_count": 104,
     "metadata": {},
     "output_type": "execute_result"
    }
   ],
   "source": [
    "ar.argmin()"
   ]
  },
  {
   "cell_type": "code",
   "execution_count": 105,
   "id": "7393734f-e64d-4e7d-8433-97866561da39",
   "metadata": {},
   "outputs": [
    {
     "data": {
      "text/plain": [
       "array([[1, 2, 3],\n",
       "       [8, 6, 0],\n",
       "       [7, 8, 9]])"
      ]
     },
     "execution_count": 105,
     "metadata": {},
     "output_type": "execute_result"
    }
   ],
   "source": [
    "ar"
   ]
  },
  {
   "cell_type": "code",
   "execution_count": null,
   "id": "14515d42-c2d8-4868-a119-f8306573ba59",
   "metadata": {},
   "outputs": [],
   "source": [
    "This returns the max element index in the flattened (1D) version of the array:"
   ]
  },
  {
   "cell_type": "code",
   "execution_count": 108,
   "id": "be25bc12-0dd2-4273-acd1-05144fe81263",
   "metadata": {},
   "outputs": [
    {
     "data": {
      "text/plain": [
       "np.int64(8)"
      ]
     },
     "execution_count": 108,
     "metadata": {},
     "output_type": "execute_result"
    }
   ],
   "source": [
    "ar.argmax()"
   ]
  },
  {
   "cell_type": "code",
   "execution_count": 110,
   "id": "ac7bc3fb-ce3a-4ebe-934d-7c70d5b6f1cb",
   "metadata": {},
   "outputs": [
    {
     "data": {
      "text/plain": [
       "array([1, 2, 2])"
      ]
     },
     "execution_count": 110,
     "metadata": {},
     "output_type": "execute_result"
    }
   ],
   "source": [
    "ar.argmax(axis=0)"
   ]
  },
  {
   "cell_type": "code",
   "execution_count": 111,
   "id": "1da66e64-d990-45dc-9dae-c24a7d14c39d",
   "metadata": {},
   "outputs": [
    {
     "data": {
      "text/plain": [
       "array([2, 0, 2])"
      ]
     },
     "execution_count": 111,
     "metadata": {},
     "output_type": "execute_result"
    }
   ],
   "source": [
    "ar.argmax(axis=1)"
   ]
  },
  {
   "cell_type": "code",
   "execution_count": 112,
   "id": "13702890-e12c-4502-b36e-545bb8090016",
   "metadata": {},
   "outputs": [
    {
     "data": {
      "text/plain": [
       "array([[0, 1, 2],\n",
       "       [2, 1, 0],\n",
       "       [0, 1, 2]])"
      ]
     },
     "execution_count": 112,
     "metadata": {},
     "output_type": "execute_result"
    }
   ],
   "source": [
    "ar.argsort(axis=1)"
   ]
  },
  {
   "cell_type": "code",
   "execution_count": 114,
   "id": "a419f267-cfb0-423c-82a5-44082de8fbc6",
   "metadata": {},
   "outputs": [
    {
     "data": {
      "text/plain": [
       "array([[1, 2, 3],\n",
       "       [8, 6, 0],\n",
       "       [7, 8, 9]])"
      ]
     },
     "execution_count": 114,
     "metadata": {},
     "output_type": "execute_result"
    }
   ],
   "source": [
    "ar"
   ]
  },
  {
   "cell_type": "code",
   "execution_count": 115,
   "id": "98c5c6cb-3aec-46c4-ac8f-928d54affe1f",
   "metadata": {},
   "outputs": [
    {
     "data": {
      "text/plain": [
       "array([[1],\n",
       "       [2],\n",
       "       [3],\n",
       "       [8],\n",
       "       [6],\n",
       "       [0],\n",
       "       [7],\n",
       "       [8],\n",
       "       [9]])"
      ]
     },
     "execution_count": 115,
     "metadata": {},
     "output_type": "execute_result"
    }
   ],
   "source": [
    "ar.reshape(9,1)"
   ]
  },
  {
   "cell_type": "code",
   "execution_count": 119,
   "id": "113bc01a-08fc-4769-98f5-12be6c325964",
   "metadata": {},
   "outputs": [
    {
     "data": {
      "text/plain": [
       "array([[1, 2, 3],\n",
       "       [8, 6, 0],\n",
       "       [7, 8, 9]])"
      ]
     },
     "execution_count": 119,
     "metadata": {},
     "output_type": "execute_result"
    }
   ],
   "source": [
    "ar"
   ]
  },
  {
   "cell_type": "code",
   "execution_count": 120,
   "id": "e9f7443e-ed07-4951-a382-891df74cbe8f",
   "metadata": {},
   "outputs": [],
   "source": [
    "ar2 = np.array([[1, 2, 3],\n",
    "       [2, 4, 8],\n",
    "       [1, 3, 1]])"
   ]
  },
  {
   "cell_type": "code",
   "execution_count": 121,
   "id": "5893738c-55eb-4fd8-8de2-72dadb7ba811",
   "metadata": {},
   "outputs": [
    {
     "data": {
      "text/plain": [
       "array([[ 2,  4,  6],\n",
       "       [10, 10,  8],\n",
       "       [ 8, 11, 10]])"
      ]
     },
     "execution_count": 121,
     "metadata": {},
     "output_type": "execute_result"
    }
   ],
   "source": [
    "ar + ar2"
   ]
  },
  {
   "cell_type": "code",
   "execution_count": 122,
   "id": "3aa0e0cb-b59e-4b9d-9205-7dcc0511b069",
   "metadata": {},
   "outputs": [
    {
     "data": {
      "text/plain": [
       "array([[ 0,  0,  0],\n",
       "       [ 6,  2, -8],\n",
       "       [ 6,  5,  8]])"
      ]
     },
     "execution_count": 122,
     "metadata": {},
     "output_type": "execute_result"
    }
   ],
   "source": [
    "ar - ar2"
   ]
  },
  {
   "cell_type": "code",
   "execution_count": 124,
   "id": "4691e875-0db1-4d8a-a11f-89457a238506",
   "metadata": {},
   "outputs": [
    {
     "data": {
      "text/plain": [
       "[324, 34, 34, 83, 'hi']"
      ]
     },
     "execution_count": 124,
     "metadata": {},
     "output_type": "execute_result"
    }
   ],
   "source": [
    "[324, 34] + [34,83] + [\"hi\"]"
   ]
  },
  {
   "cell_type": "code",
   "execution_count": 125,
   "id": "40460d0f-a9c5-42ef-880d-756606d6f04e",
   "metadata": {},
   "outputs": [
    {
     "data": {
      "text/plain": [
       "array([[1, 2, 3],\n",
       "       [8, 6, 0],\n",
       "       [7, 8, 9]])"
      ]
     },
     "execution_count": 125,
     "metadata": {},
     "output_type": "execute_result"
    }
   ],
   "source": [
    "ar"
   ]
  },
  {
   "cell_type": "code",
   "execution_count": 126,
   "id": "cdaae0f7-af5b-4e15-85b3-7d1bbcc21872",
   "metadata": {},
   "outputs": [
    {
     "data": {
      "text/plain": [
       "array([[1, 2, 3],\n",
       "       [2, 4, 8],\n",
       "       [1, 3, 1]])"
      ]
     },
     "execution_count": 126,
     "metadata": {},
     "output_type": "execute_result"
    }
   ],
   "source": [
    "ar2"
   ]
  },
  {
   "cell_type": "code",
   "execution_count": 127,
   "id": "ecf9011f-3ff7-4c6c-9ab6-3f4afac0e776",
   "metadata": {},
   "outputs": [
    {
     "data": {
      "text/plain": [
       "array([[ 1,  4,  9],\n",
       "       [16, 24,  0],\n",
       "       [ 7, 24,  9]])"
      ]
     },
     "execution_count": 127,
     "metadata": {},
     "output_type": "execute_result"
    }
   ],
   "source": [
    "ar * ar2"
   ]
  },
  {
   "cell_type": "code",
   "execution_count": 128,
   "id": "69b12b7f-05fb-4744-bbeb-d766562946eb",
   "metadata": {},
   "outputs": [
    {
     "data": {
      "text/plain": [
       "array([[1.        , 1.41421356, 1.73205081],\n",
       "       [2.82842712, 2.44948974, 0.        ],\n",
       "       [2.64575131, 2.82842712, 3.        ]])"
      ]
     },
     "execution_count": 128,
     "metadata": {},
     "output_type": "execute_result"
    }
   ],
   "source": [
    "np.sqrt(ar)"
   ]
  },
  {
   "cell_type": "code",
   "execution_count": 133,
   "id": "f68b4d22-77f9-42fd-9bd5-0e6784adc518",
   "metadata": {},
   "outputs": [
    {
     "data": {
      "text/plain": [
       "array([[1, 2, 3],\n",
       "       [8, 6, 0],\n",
       "       [7, 8, 9]])"
      ]
     },
     "execution_count": 133,
     "metadata": {},
     "output_type": "execute_result"
    }
   ],
   "source": [
    "ar"
   ]
  },
  {
   "cell_type": "code",
   "execution_count": 129,
   "id": "421faeed-8703-4d8f-ad80-ed998c6c37ad",
   "metadata": {},
   "outputs": [
    {
     "data": {
      "text/plain": [
       "np.int64(44)"
      ]
     },
     "execution_count": 129,
     "metadata": {},
     "output_type": "execute_result"
    }
   ],
   "source": [
    "ar.sum()"
   ]
  },
  {
   "cell_type": "code",
   "execution_count": 130,
   "id": "c0dd2208-e6a0-4dd7-94d1-8da0137da23d",
   "metadata": {},
   "outputs": [
    {
     "data": {
      "text/plain": [
       "np.int64(9)"
      ]
     },
     "execution_count": 130,
     "metadata": {},
     "output_type": "execute_result"
    }
   ],
   "source": [
    "ar.max()"
   ]
  },
  {
   "cell_type": "code",
   "execution_count": 132,
   "id": "499611a2-7482-4087-9e5d-2ef4a00dae55",
   "metadata": {},
   "outputs": [
    {
     "data": {
      "text/plain": [
       "np.int64(0)"
      ]
     },
     "execution_count": 132,
     "metadata": {},
     "output_type": "execute_result"
    }
   ],
   "source": [
    "ar.min()"
   ]
  },
  {
   "cell_type": "code",
   "execution_count": 136,
   "id": "0c34ae5a-eb9b-4b22-b2d4-b30936e58847",
   "metadata": {},
   "outputs": [
    {
     "data": {
      "text/plain": [
       "array([[1, 2, 3],\n",
       "       [8, 6, 0],\n",
       "       [7, 8, 9]])"
      ]
     },
     "execution_count": 136,
     "metadata": {},
     "output_type": "execute_result"
    }
   ],
   "source": [
    "ar"
   ]
  },
  {
   "cell_type": "code",
   "execution_count": null,
   "id": "45a683c0-5737-4b4b-bec5-39e7803f5f37",
   "metadata": {},
   "outputs": [],
   "source": [
    "First array → Row indices[1, 1, 2, 2, 2]\n",
    "                                                   (1,0)(1,1) (2.0)(2,1)(2,2)\n",
    "Second array → Col indices: [0, 1, 0, 1, 2]"
   ]
  },
  {
   "cell_type": "code",
   "execution_count": 135,
   "id": "171b0439-ce6f-4858-8568-6ad2e58a88d7",
   "metadata": {},
   "outputs": [
    {
     "data": {
      "text/plain": [
       "(array([1, 1, 2, 2, 2]), array([0, 1, 0, 1, 2]))"
      ]
     },
     "execution_count": 135,
     "metadata": {},
     "output_type": "execute_result"
    }
   ],
   "source": [
    "np.where(ar>5)"
   ]
  },
  {
   "cell_type": "code",
   "execution_count": 140,
   "id": "5b67e0b8-26ba-4278-8e17-f2351cc8da23",
   "metadata": {},
   "outputs": [
    {
     "data": {
      "text/plain": [
       "(array([2]), array([2]))"
      ]
     },
     "execution_count": 140,
     "metadata": {},
     "output_type": "execute_result"
    }
   ],
   "source": [
    "np.where(ar>=9)"
   ]
  },
  {
   "cell_type": "code",
   "execution_count": 141,
   "id": "e2a6b078-2112-4319-b962-3736acb9a2e5",
   "metadata": {},
   "outputs": [
    {
     "data": {
      "text/plain": [
       "tuple"
      ]
     },
     "execution_count": 141,
     "metadata": {},
     "output_type": "execute_result"
    }
   ],
   "source": [
    "type(np.where(ar>=9))"
   ]
  },
  {
   "cell_type": "code",
   "execution_count": 142,
   "id": "1f1f3b02-4a1c-404c-9aee-2f519a73e08b",
   "metadata": {},
   "outputs": [
    {
     "data": {
      "text/plain": [
       "array([[1, 2, 3],\n",
       "       [8, 6, 0],\n",
       "       [7, 8, 9]])"
      ]
     },
     "execution_count": 142,
     "metadata": {},
     "output_type": "execute_result"
    }
   ],
   "source": [
    "ar"
   ]
  },
  {
   "cell_type": "code",
   "execution_count": 143,
   "id": "57e18b1d-eb03-4754-8716-8c00007f9a27",
   "metadata": {},
   "outputs": [
    {
     "data": {
      "text/plain": [
       "np.int64(8)"
      ]
     },
     "execution_count": 143,
     "metadata": {},
     "output_type": "execute_result"
    }
   ],
   "source": [
    "np.count_nonzero(ar)"
   ]
  },
  {
   "cell_type": "code",
   "execution_count": 144,
   "id": "41e723e7-3f27-42b0-8ca4-23b6b7676ff0",
   "metadata": {},
   "outputs": [
    {
     "data": {
      "text/plain": [
       "(array([0, 0, 0, 1, 1, 2, 2, 2]), array([0, 1, 2, 0, 1, 0, 1, 2]))"
      ]
     },
     "execution_count": 144,
     "metadata": {},
     "output_type": "execute_result"
    }
   ],
   "source": [
    "np.nonzero(ar)"
   ]
  },
  {
   "cell_type": "code",
   "execution_count": 145,
   "id": "48cbd196-0709-4fe6-a6fb-3f59f1f5ebf0",
   "metadata": {},
   "outputs": [
    {
     "data": {
      "text/plain": [
       "tuple"
      ]
     },
     "execution_count": 145,
     "metadata": {},
     "output_type": "execute_result"
    }
   ],
   "source": [
    "type(np.nonzero(ar))"
   ]
  },
  {
   "cell_type": "code",
   "execution_count": 146,
   "id": "3c2d157d-cf3f-475b-9a16-7090cb1b54b9",
   "metadata": {},
   "outputs": [],
   "source": [
    "ar[0,0] = 0"
   ]
  },
  {
   "cell_type": "code",
   "execution_count": 147,
   "id": "28114906-43b8-4fc9-a402-1ffbefd46c3c",
   "metadata": {},
   "outputs": [
    {
     "data": {
      "text/plain": [
       "(array([0, 0, 1, 1, 2, 2, 2]), array([1, 2, 0, 1, 0, 1, 2]))"
      ]
     },
     "execution_count": 147,
     "metadata": {},
     "output_type": "execute_result"
    }
   ],
   "source": [
    "np.nonzero(ar)"
   ]
  },
  {
   "cell_type": "code",
   "execution_count": 148,
   "id": "15a31fc6-f75b-4a0a-bbee-ae360f5891c3",
   "metadata": {},
   "outputs": [
    {
     "data": {
      "text/plain": [
       "array([[0, 2, 3],\n",
       "       [8, 6, 0],\n",
       "       [7, 8, 9]])"
      ]
     },
     "execution_count": 148,
     "metadata": {},
     "output_type": "execute_result"
    }
   ],
   "source": [
    "ar"
   ]
  },
  {
   "cell_type": "markdown",
   "id": "14bcca75-e0a3-4559-aa4e-8ad7f110fbfb",
   "metadata": {},
   "source": [
    "How size is differ from normal to numpy"
   ]
  },
  {
   "cell_type": "code",
   "execution_count": 149,
   "id": "15ef21d8-63e4-428c-bd64-a245b85790dd",
   "metadata": {},
   "outputs": [],
   "source": [
    "import sys"
   ]
  },
  {
   "cell_type": "code",
   "execution_count": 152,
   "id": "ab18f4ae-4696-49ec-8142-4976f7a089ba",
   "metadata": {},
   "outputs": [],
   "source": [
    "py_ar = [0,4,55,2]"
   ]
  },
  {
   "cell_type": "code",
   "execution_count": 155,
   "id": "19f9e18f-1e0f-4081-a3ad-c0fe30b199de",
   "metadata": {},
   "outputs": [],
   "source": [
    "np_ar = np.array(py_ar)"
   ]
  },
  {
   "cell_type": "code",
   "execution_count": 156,
   "id": "fd02e0c3-e57a-4d2d-ad13-8975ceccc6de",
   "metadata": {},
   "outputs": [
    {
     "data": {
      "text/plain": [
       "112"
      ]
     },
     "execution_count": 156,
     "metadata": {},
     "output_type": "execute_result"
    }
   ],
   "source": [
    "sys.getsizeof(1) * len(py_ar)"
   ]
  },
  {
   "cell_type": "code",
   "execution_count": 158,
   "id": "cb1e6f8b-acfd-4cab-b9b4-2b5d554ea3a4",
   "metadata": {},
   "outputs": [
    {
     "data": {
      "text/plain": [
       "32"
      ]
     },
     "execution_count": 158,
     "metadata": {},
     "output_type": "execute_result"
    }
   ],
   "source": [
    "np_ar.itemsize * np_ar.size"
   ]
  },
  {
   "cell_type": "code",
   "execution_count": 161,
   "id": "858da85b-8ce9-4d64-ba43-b147d157c489",
   "metadata": {},
   "outputs": [
    {
     "data": {
      "text/plain": [
       "array([ 0,  4, 55,  2])"
      ]
     },
     "execution_count": 161,
     "metadata": {},
     "output_type": "execute_result"
    }
   ],
   "source": [
    "np_ar"
   ]
  },
  {
   "cell_type": "code",
   "execution_count": 163,
   "id": "17caf2f9-5bd1-4181-b5e2-431398fc1bcc",
   "metadata": {},
   "outputs": [
    {
     "data": {
      "text/plain": [
       "array([[0, 2, 3],\n",
       "       [8, 6, 0],\n",
       "       [7, 8, 9]])"
      ]
     },
     "execution_count": 163,
     "metadata": {},
     "output_type": "execute_result"
    }
   ],
   "source": [
    "ar"
   ]
  },
  {
   "cell_type": "code",
   "execution_count": 164,
   "id": "52add64b-c4e6-442e-91d7-b28d66d01317",
   "metadata": {},
   "outputs": [
    {
     "data": {
      "text/plain": [
       "[[0, 2, 3], [8, 6, 0], [7, 8, 9]]"
      ]
     },
     "execution_count": 164,
     "metadata": {},
     "output_type": "execute_result"
    }
   ],
   "source": [
    "ar.tolist()"
   ]
  },
  {
   "cell_type": "code",
   "execution_count": 165,
   "id": "8db0a17d-69a3-47c4-a0d5-140bc9ed40eb",
   "metadata": {},
   "outputs": [],
   "source": [
    "A = np.array([10,20,30])"
   ]
  },
  {
   "cell_type": "code",
   "execution_count": 170,
   "id": "6f262361-129e-47f5-9cde-03ee7940d1ed",
   "metadata": {},
   "outputs": [
    {
     "name": "stdout",
     "output_type": "stream",
     "text": [
      "[15 25 35]\n",
      "[ 8 18 28]\n",
      "[20 40 60]\n",
      "[ 5. 10. 15.]\n",
      "[100 400 900]\n"
     ]
    }
   ],
   "source": [
    "print(A+5)\n",
    "print(A-2)\n",
    "print(A*2)\n",
    "print(A/2)\n",
    "print(A**2)"
   ]
  },
  {
   "cell_type": "code",
   "execution_count": null,
   "id": "b57c7705-d75a-413a-ab15-777f0c723658",
   "metadata": {},
   "outputs": [],
   "source": []
  }
 ],
 "metadata": {
  "kernelspec": {
   "display_name": "Python 3 (ipykernel)",
   "language": "python",
   "name": "python3"
  },
  "language_info": {
   "codemirror_mode": {
    "name": "ipython",
    "version": 3
   },
   "file_extension": ".py",
   "mimetype": "text/x-python",
   "name": "python",
   "nbconvert_exporter": "python",
   "pygments_lexer": "ipython3",
   "version": "3.13.5"
  }
 },
 "nbformat": 4,
 "nbformat_minor": 5
}
